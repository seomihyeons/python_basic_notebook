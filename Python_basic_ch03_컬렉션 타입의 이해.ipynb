{
 "cells": [
  {
   "cell_type": "markdown",
   "metadata": {},
   "source": [
    "## 컬렉션 타입\n",
    "- 변수: 하나에 값을 저장할 수 있는 메모리 공간\n",
    "- 컬렉션 타입: 다양한 자료형의 여러값을 저장 가능\n",
    "- list, dict, tuple, set\n",
    "\n",
    "1. lsit[]\n",
    "- 시퀀스 자료형(연속 된 값 저장) → 정렬 가능\n",
    "- mutable(생성 후 변경 가능)\n",
    "- index 사용 → slicing 가능\n",
    "- packing과 unpacking 가능\n",
    "- 멤버함수: append(), extend(), insert(), remnove(), pop(), sort() 등등\n",
    "\n",
    "2. tuple()\n",
    "- 시퀀스 자료형(연속 된 값 저장) → 정렬 불가능\n",
    "- mutable(생성 후 변경 가능)\n",
    "- index 사용 → slicing 가능\n",
    "- () 생략 가능\n",
    "- 1개의 원소만 가지는 경우 ,사용 → (1,)\n",
    "\n",
    "3. dict{key;value}\n",
    "- key, value 한 쌍으로 구성 된 구조\n",
    "- key를 통해서 value 접근\n",
    "- key 중복 불가, value 중복 가능\n",
    "- 순서 없음 → index 없음\n",
    "- 멤버함수 : update(), get(), keys(), values(), items()\n",
    "\n",
    "4. set{}\n",
    "- dict type에서 key만 활용하는 데이터 구조로 이해\n",
    "- 수학 집합과 같은 개념\n",
    "- 순서 없음 → index 없음\n",
    "- set 구조 내 중복값 허용 안 함\n",
    "- 멤버함수: union(), interesction(), difference() 등"
   ]
  },
  {
   "cell_type": "code",
   "execution_count": 2,
   "metadata": {},
   "outputs": [],
   "source": [
    "# list  초기화\n",
    "# 1. []\n",
    "# 2. list()\n",
    "\n",
    "list_a = []\n",
    "list_b = [1, 2, 3]\n",
    "list_c = [\"cnu\", 3.14, [1, 2, 3]]"
   ]
  },
  {
   "cell_type": "code",
   "execution_count": 5,
   "metadata": {},
   "outputs": [
    {
     "name": "stdout",
     "output_type": "stream",
     "text": [
      "['H', 'e', 'l', 'l', 'o']\n",
      "[1, 2, 3]\n"
     ]
    }
   ],
   "source": [
    "str_a = \"Hello\"\n",
    "list_d = list(str_a)  # 문자열 → list 형변환\n",
    "print(list_d)\n",
    "\n",
    "tuple_a = (1, 2, 3)\n",
    "list_e = list(tuple_a)\n",
    "print(list_e)"
   ]
  },
  {
   "cell_type": "code",
   "execution_count": 7,
   "metadata": {},
   "outputs": [
    {
     "name": "stdout",
     "output_type": "stream",
     "text": [
      "4\n",
      "[2, 3]\n",
      "[1, 2]\n"
     ]
    }
   ],
   "source": [
    "list_f = [1, 2, 3, 4, 5]\n",
    "print(list_f[3])\n",
    "print(list_f[1:3])\n",
    "print(list_f[:2])"
   ]
  },
  {
   "cell_type": "code",
   "execution_count": 8,
   "metadata": {},
   "outputs": [
    {
     "name": "stdout",
     "output_type": "stream",
     "text": [
      "[1, 2, 3, 10]\n"
     ]
    }
   ],
   "source": [
    "# append() : list 마지막에 값을 추가\n",
    "a = [1, 2, 3]\n",
    "a.append(10)\n",
    "print(a)"
   ]
  },
  {
   "cell_type": "code",
   "execution_count": 9,
   "metadata": {},
   "outputs": [
    {
     "name": "stdout",
     "output_type": "stream",
     "text": [
      "[1, 99, 2, 3]\n"
     ]
    }
   ],
   "source": [
    "# insert() : list 원하는 인덱스 위치에 값을 추가\n",
    "a = [1, 2, 3]\n",
    "a.insert(1,99)\n",
    "print(a)"
   ]
  },
  {
   "cell_type": "code",
   "execution_count": 1,
   "metadata": {},
   "outputs": [
    {
     "name": "stdout",
     "output_type": "stream",
     "text": [
      "[1, 2, 3, 4, 5, 6]\n"
     ]
    }
   ],
   "source": [
    "# extend() : list와 list 병합\n",
    "a = [1, 2, 3]\n",
    "b = [4, 5, 6]\n",
    "\n",
    "# a.append(b)\n",
    "a += b  # a = a + b\n",
    "print(a)"
   ]
  },
  {
   "cell_type": "code",
   "execution_count": 12,
   "metadata": {},
   "outputs": [
    {
     "name": "stdout",
     "output_type": "stream",
     "text": [
      "[1, 2, 3, 4, 5, 6]\n"
     ]
    }
   ],
   "source": [
    "a = [1, 2, 3]\n",
    "b = [4, 5, 6]\n",
    "a.extend(b)\n",
    "print(a)"
   ]
  },
  {
   "cell_type": "code",
   "execution_count": 2,
   "metadata": {},
   "outputs": [
    {
     "name": "stdout",
     "output_type": "stream",
     "text": [
      "[1, 3]\n"
     ]
    }
   ],
   "source": [
    "# remove(): 값을 통해서 삭제(인덱스 X)\n",
    "a = [1, 2, 3]\n",
    "a.remove(2)\n",
    "print(a)"
   ]
  },
  {
   "cell_type": "code",
   "execution_count": 4,
   "metadata": {},
   "outputs": [
    {
     "name": "stdout",
     "output_type": "stream",
     "text": [
      "[4, 5]\n",
      "6\n"
     ]
    }
   ],
   "source": [
    "# pop() : 인덱스를 통해서 삭제(+ 삭제 전 값을 변수에 저장 가능)\n",
    "a = [4, 5, 6]\n",
    "# a.pop(1)\n",
    "b = a.pop(2)\n",
    "print(a)\n",
    "print(b)"
   ]
  },
  {
   "cell_type": "code",
   "execution_count": 5,
   "metadata": {},
   "outputs": [
    {
     "name": "stdout",
     "output_type": "stream",
     "text": [
      "2\n"
     ]
    }
   ],
   "source": [
    "# index() : 찾고자 하는 값의 인덱스 번호 출력\n",
    "a = [8, 10, 20 ,5, 3]\n",
    "print(a.index(20))"
   ]
  },
  {
   "cell_type": "code",
   "execution_count": 9,
   "metadata": {},
   "outputs": [
    {
     "data": {
      "text/plain": [
       "'seomihyeon0225'"
      ]
     },
     "execution_count": 9,
     "metadata": {},
     "output_type": "execute_result"
    }
   ],
   "source": [
    "email = \"seomihyeon0225@gmail.com\"\n",
    "\n",
    "email_idx = email.index(\"@\")\n",
    "email[:email_idx]"
   ]
  },
  {
   "cell_type": "code",
   "execution_count": 10,
   "metadata": {},
   "outputs": [
    {
     "name": "stdout",
     "output_type": "stream",
     "text": [
      "True\n",
      "False\n"
     ]
    }
   ],
   "source": [
    "# in : list내에 해당 값이 존재(True, False)\n",
    "a = [1, 2, 3]\n",
    "print(3 in a)\n",
    "print(5 in a)"
   ]
  },
  {
   "cell_type": "code",
   "execution_count": 15,
   "metadata": {},
   "outputs": [
    {
     "name": "stdout",
     "output_type": "stream",
     "text": [
      "[9, 5, 1, 2, 10, 15, 20]\n",
      "[1, 2, 5, 9, 10, 15, 20]\n",
      "==================================================\n",
      "[20, 15, 10, 9, 5, 2, 1]\n"
     ]
    }
   ],
   "source": [
    "# sort() and sorted() : listr 정렬\n",
    "# - sort() : 원본 list 정렬\n",
    "# - sorted() : list 복제 후 정렬\n",
    "\n",
    "a = [9, 5, 1, 2, 10, 15, 20]\n",
    "\n",
    "b = sorted(a)  # 정렬 default: 오름차순\n",
    "print(a)\n",
    "print(b)\n",
    "print(\"=\" * 50)\n",
    "a.sort(reverse=True)\n",
    "print(a)"
   ]
  },
  {
   "cell_type": "markdown",
   "metadata": {},
   "source": [
    "### 2.tuple"
   ]
  },
  {
   "cell_type": "code",
   "execution_count": 20,
   "metadata": {},
   "outputs": [
    {
     "name": "stdout",
     "output_type": "stream",
     "text": [
      "<class 'list'>\n",
      "<class 'tuple'>\n",
      "<class 'tuple'>\n",
      "[99, 2, 3]\n"
     ]
    },
    {
     "ename": "TypeError",
     "evalue": "'tuple' object does not support item assignment",
     "output_type": "error",
     "traceback": [
      "\u001b[1;31m---------------------------------------------------------------------------\u001b[0m",
      "\u001b[1;31mTypeError\u001b[0m                                 Traceback (most recent call last)",
      "\u001b[1;32m<ipython-input-20-55d9def77685>\u001b[0m in \u001b[0;36m<module>\u001b[1;34m\u001b[0m\n\u001b[0;32m     10\u001b[0m \u001b[0mprint\u001b[0m\u001b[1;33m(\u001b[0m\u001b[0ma\u001b[0m\u001b[1;33m)\u001b[0m\u001b[1;33m\u001b[0m\u001b[1;33m\u001b[0m\u001b[0m\n\u001b[0;32m     11\u001b[0m \u001b[1;33m\u001b[0m\u001b[0m\n\u001b[1;32m---> 12\u001b[1;33m \u001b[0mb\u001b[0m\u001b[1;33m[\u001b[0m\u001b[1;36m0\u001b[0m\u001b[1;33m]\u001b[0m \u001b[1;33m=\u001b[0m \u001b[1;36m99\u001b[0m\u001b[1;33m\u001b[0m\u001b[1;33m\u001b[0m\u001b[0m\n\u001b[0m\u001b[0;32m     13\u001b[0m \u001b[0mprint\u001b[0m\u001b[1;33m(\u001b[0m\u001b[0mb\u001b[0m\u001b[1;33m)\u001b[0m\u001b[1;33m\u001b[0m\u001b[1;33m\u001b[0m\u001b[0m\n",
      "\u001b[1;31mTypeError\u001b[0m: 'tuple' object does not support item assignment"
     ]
    }
   ],
   "source": [
    "a = [1, 2, 3] # list type\n",
    "b = (1, 2, 3)  # tuple type\n",
    "c = 5, 6, 4  # tuple type\n",
    "\n",
    "print(type(a))\n",
    "print(type(b))\n",
    "print(type(c))\n",
    "\n",
    "a[0] = 99\n",
    "print(a)\n",
    "\n",
    "b[0] = 99\n",
    "print(b)"
   ]
  },
  {
   "cell_type": "code",
   "execution_count": 25,
   "metadata": {},
   "outputs": [
    {
     "name": "stdout",
     "output_type": "stream",
     "text": [
      "1 2 3\n"
     ]
    }
   ],
   "source": [
    "# packing and unpacking\n",
    "# - list와 tuple 가능\n",
    "# - [], () → 값을 묶음(packing)\n",
    "\n",
    "tuple_num = (1, 2, 3)  # packing\n",
    "a, b, c  = tuple_num  # unpacking\n",
    "print(a, b, c)"
   ]
  },
  {
   "cell_type": "markdown",
   "metadata": {},
   "source": [
    "### 연습문제\n",
    "변수 a와 b의 값을 교환하세요."
   ]
  },
  {
   "cell_type": "code",
   "execution_count": 30,
   "metadata": {},
   "outputs": [
    {
     "name": "stdout",
     "output_type": "stream",
     "text": [
      "9\n",
      "5\n"
     ]
    }
   ],
   "source": [
    "a = 5\n",
    "b = 9\n",
    "\n",
    "# 코드 작성\n",
    "# 1.임시 변수 사용\n",
    "# temp = a\n",
    "# a = b\n",
    "# b = temp\n",
    "\n",
    "# 2.tuple() 사용\n",
    "a, b = b, a\n",
    "\n",
    "print(a)  # 출력 9\n",
    "print(b)  # 출력 5"
   ]
  },
  {
   "cell_type": "markdown",
   "metadata": {},
   "source": [
    "### 3.dict"
   ]
  },
  {
   "cell_type": "code",
   "execution_count": 31,
   "metadata": {},
   "outputs": [
    {
     "name": "stdout",
     "output_type": "stream",
     "text": [
      "ottawa\n",
      "9\n"
     ]
    }
   ],
   "source": [
    "dict_a = {\"korea\" : \"seoul\",\n",
    "          \"canada\" : \"ottawa\",\n",
    "          \"usa\" : \"washington D.C\"}\n",
    "dict_b = {0:1, 1:6, 2:4, 3:9}\n",
    "print(dict_a[\"canada\"])\n",
    "print(dict_b[3])"
   ]
  },
  {
   "cell_type": "code",
   "execution_count": 38,
   "metadata": {},
   "outputs": [
    {
     "name": "stdout",
     "output_type": "stream",
     "text": [
      "{'canada': 'ottawa',\n",
      " 'japan': 'kyoto',\n",
      " 'japan2': 'kyoto',\n",
      " 'korea': 'seoul',\n",
      " 'usa': 'washington D.C'}\n"
     ]
    }
   ],
   "source": [
    "import pprint\n",
    "dict_a = {\"korea\" : \"seoul\",\n",
    "          \"canada\" : \"ottawa\",\n",
    "          \"usa\" : \"washington D.C\"}\n",
    "\n",
    "# 값을 입력 →  key값이 X(입력), key값이 0(수정)\n",
    "dict_a[\"japan\"] = \"tokyo\"\n",
    "dict_a[\"japan\"] = \"kyoto\"\n",
    "dict_a[\"japan2\"] = \"kyoto\"\n",
    "\n",
    "# print(dict_a)\n",
    "pprint.pprint(dict_a)"
   ]
  },
  {
   "cell_type": "code",
   "execution_count": 40,
   "metadata": {},
   "outputs": [
    {
     "name": "stdout",
     "output_type": "stream",
     "text": [
      "{'a': 9, 'b': 2, 'd': 4, 'e': 5}\n"
     ]
    }
   ],
   "source": [
    "# update() : dict와 dict 병합\n",
    "a = {\n",
    "    \"a\" : 1,\n",
    "    \"b\" : 2\n",
    "}\n",
    "b = {\n",
    "    \"a\" : 9,\n",
    "    \"d\" : 4,\n",
    "    \"e\" : 5\n",
    "}\n",
    "a.update(b)\n",
    "print(a)"
   ]
  },
  {
   "cell_type": "code",
   "execution_count": 41,
   "metadata": {},
   "outputs": [
    {
     "name": "stdout",
     "output_type": "stream",
     "text": [
      "{'b': 2, 'd': 4, 'e': 5}\n",
      "9\n"
     ]
    }
   ],
   "source": [
    "# pop() : dict 항목 삭제\n",
    "c = a.pop(\"a\")\n",
    "print(a)\n",
    "print(c)"
   ]
  },
  {
   "cell_type": "code",
   "execution_count": 43,
   "metadata": {},
   "outputs": [
    {
     "name": "stdout",
     "output_type": "stream",
     "text": [
      "5\n",
      "None\n"
     ]
    }
   ],
   "source": [
    "# 값 접근\n",
    "print(a[\"e\"])\n",
    "# print(a[\"f\"])\n",
    "print(a.get(\"f\"))"
   ]
  },
  {
   "cell_type": "code",
   "execution_count": 44,
   "metadata": {},
   "outputs": [
    {
     "name": "stdout",
     "output_type": "stream",
     "text": [
      "True\n"
     ]
    }
   ],
   "source": [
    "# in\n",
    "print(\"b\" in a)"
   ]
  },
  {
   "cell_type": "code",
   "execution_count": 45,
   "metadata": {},
   "outputs": [
    {
     "name": "stdout",
     "output_type": "stream",
     "text": [
      "{'b': 2, 'd': 4, 'e': 5}\n",
      "{}\n"
     ]
    }
   ],
   "source": [
    "# clear() : dict 초기화\n",
    "print(a)\n",
    "a.clear()\n",
    "print(a)"
   ]
  }
 ],
 "metadata": {
  "kernelspec": {
   "display_name": "Python 3",
   "language": "python",
   "name": "python3"
  },
  "language_info": {
   "codemirror_mode": {
    "name": "ipython",
    "version": 3
   },
   "file_extension": ".py",
   "mimetype": "text/x-python",
   "name": "python",
   "nbconvert_exporter": "python",
   "pygments_lexer": "ipython3",
   "version": "3.7.6"
  }
 },
 "nbformat": 4,
 "nbformat_minor": 4
}
