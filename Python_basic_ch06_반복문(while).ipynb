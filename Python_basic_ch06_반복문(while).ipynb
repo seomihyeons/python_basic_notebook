{
 "cells": [
  {
   "cell_type": "markdown",
   "metadata": {},
   "source": [
    "## 반복문(while)\n",
    "- 반복문횟수가 정해져 있지 않은 경우 사용\n",
    "- 조건이 True이면 계속 반복하며 실행\n",
    "- 조건이 False이면 반복 종료\n",
    "- while 반복문은 \"무한 loop(데드락)\" 조심 → 다음 코드로 못 넘어감\n",
    "- \"무한 loop\" 사용 할 경우 반드시 break문 함께 사용!\n",
    "\n",
    "```python\n",
    "# while 기본 문법\n",
    "while 조건:\n",
    "    실행문\n",
    "```"
   ]
  },
  {
   "cell_type": "code",
   "execution_count": 1,
   "metadata": {},
   "outputs": [
    {
     "name": "stdout",
     "output_type": "stream",
     "text": [
      "점수: 70\n"
     ]
    }
   ],
   "source": [
    "# 사용자가 0~100점 사이의 값 입력\n",
    "\n",
    "\n",
    "while True: \n",
    "    score = int(input(\"점수: \"))\n",
    "\n",
    "    if score >= 0 and score <= 100:\n",
    "        break\n",
    "    else:\n",
    "        print(\"0~100 값을 입력해주세요.\")"
   ]
  },
  {
   "cell_type": "code",
   "execution_count": 3,
   "metadata": {},
   "outputs": [
    {
     "name": "stdout",
     "output_type": "stream",
     "text": [
      "총합:5050\n"
     ]
    }
   ],
   "source": [
    "# 1~100의 값의 총합\n",
    "total = 0\n",
    "for i in range(1, 101):\n",
    "    total += i  # total = total + i\n",
    "print(f\"총합:{total}\")"
   ]
  },
  {
   "cell_type": "code",
   "execution_count": 2,
   "metadata": {},
   "outputs": [
    {
     "name": "stdout",
     "output_type": "stream",
     "text": [
      "총합: 5050\n"
     ]
    }
   ],
   "source": [
    "total = 0\n",
    "i = 1\n",
    "\n",
    "while True:\n",
    "    total += i\n",
    "    i += 1\n",
    "    \n",
    "    if i == 101:\n",
    "        break\n",
    "print(f\"총합: {total}\")"
   ]
  }
 ],
 "metadata": {
  "kernelspec": {
   "display_name": "Python 3",
   "language": "python",
   "name": "python3"
  },
  "language_info": {
   "codemirror_mode": {
    "name": "ipython",
    "version": 3
   },
   "file_extension": ".py",
   "mimetype": "text/x-python",
   "name": "python",
   "nbconvert_exporter": "python",
   "pygments_lexer": "ipython3",
   "version": "3.7.6"
  }
 },
 "nbformat": 4,
 "nbformat_minor": 4
}
