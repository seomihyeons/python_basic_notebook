{
 "cells": [
  {
   "cell_type": "markdown",
   "metadata": {},
   "source": [
    "## 함수(function, method)\n",
    "\n",
    "> 함수: 어떤 일을 수행하는 코드 묶음\n",
    "\n",
    "- python은 ()가 붙어 있으면 함수\n",
    "- 예: print(), type(), len(), list(), etc...\n",
    "\n",
    "함수 개발 가이드라인\n",
    "1. 함수 이름\n",
    "  - 함수 내용은 가능하면 짧게 작성할 것(line 줄이기)\n",
    "  - 함수 이름에 함수의 역할과 의도를 명확히 드러낼 것\n",
    "  ```python\n",
    "  def print_hello_world():\n",
    "        print(\"Hello, world\")\n",
    "  ```\n",
    "  \n",
    "2. 함수의 역할\n",
    "  - 하나의 함수에는 유사한 역할을 하는 코드만 포함\n",
    "  - 함수는 한 가지의 역할을 명확히\n",
    "  ```python\n",
    "   def add_variables(x, y):\n",
    "        return x + y\n",
    "  ```\n",
    "    \n",
    "3. 함수를 만들어야 하는 경우\n",
    "  - 공통으로 사용되는 코드를 함수로 변환\n",
    "  - 복잡한 로직이 사용되었을 때 식별 가능한 이름의 함수로 변환"
   ]
  },
  {
   "cell_type": "markdown",
   "metadata": {},
   "source": [
    "## 함수의 종류\n",
    "1. 내장 함수(built-i function)\n",
    "  - python에서 제공하는 함수: print(), type(), len() 등등\n",
    "2. 외장 함수(libray of module)\n",
    "  - import문을 사용하여 외부 라이브러리에 제공하는 함수\n",
    "  - 라이브러리(library): 다른 사람들이 만들어 놓은 코드 묶음\n",
    "3. 사용자 정의 함수\n",
    "  - 개발자가 직접 만들어서 사용하는 함수\n",
    "  \n",
    "함수 Naming Rule\n",
    "  - 변수와 동일(+ snake_case)"
   ]
  },
  {
   "cell_type": "markdown",
   "metadata": {},
   "source": [
    "### 1. 함수 정의\n",
    "\n",
    "```python\n",
    "# 기본 함수 문법\n",
    "def 함수이름(parameer1, parameter2 ...):\n",
    "    실행문\n",
    "    return 반환값\n",
    "```\n",
    "\n",
    "- 함수 정의 시 \"def\"키워드 사용\n",
    "- 인자(argument of parameter) 정의: 함수 입력 값\n",
    "- return: 함수 종료 의미\n",
    "- return 반환값: 함수 종료 의미\n",
    "- return 생략가능 → 들였기가 종료되면 함수 종료 의미\n",
    "- parameter와 return은 사용하지 않을 수 도 있음(입력값, 반환값 없는 함수도 존재)"
   ]
  },
  {
   "cell_type": "markdown",
   "metadata": {},
   "source": [
    "### 2. 함수 사용방법\n",
    "1. 함수 정의(def ~)\n",
    "2. 함수 호출(함수 이름으로)"
   ]
  },
  {
   "cell_type": "code",
   "execution_count": 1,
   "metadata": {},
   "outputs": [
    {
     "name": "stdout",
     "output_type": "stream",
     "text": [
      "15\n"
     ]
    }
   ],
   "source": [
    "# 1.함수 정의\n",
    "def sum_two_value(x,y):\n",
    "    n = x + y\n",
    "    return n\n",
    "\n",
    "# 2.함수 호출\n",
    "total = sum_two_value(5, 10)\n",
    "print(total)"
   ]
  },
  {
   "cell_type": "markdown",
   "metadata": {},
   "source": [
    "### 3.parameter of argument(인자)\n",
    "- 함수에 전달되는 입력값(input)\n",
    "- 함수 정의분과 함수 호출분의 parameter 갯수가 동일해야함.\n",
    "- parameter로 int, str, float, bool, list, dict 등 다양한 type 사용 가능\n",
    "- 심지어 사용자 정의 함수도 parameter로 전달 가능\n",
    "- python의 경우 동적 타이핑 언어이기 때문에 생성시 의도된 parameter type에 맞게 전달하는 것이 중요\n",
    "- 또한 파라미터로 2개 이상의 값 전달시 정의 된 순서대로 전달하는 것이 중요"
   ]
  },
  {
   "cell_type": "code",
   "execution_count": 2,
   "metadata": {},
   "outputs": [
    {
     "name": "stdout",
     "output_type": "stream",
     "text": [
      "-5\n"
     ]
    }
   ],
   "source": [
    "# Python Type Annotation\n",
    "# - 생략 가능\n",
    "# - 힌트 가능, error 체크 X(동작 0)\n",
    "def sub_two_value(a: int,b: int):\n",
    "    n = a - b\n",
    "    return n\n",
    "\n",
    "c = 15\n",
    "d = 20\n",
    "num = sub_two_value(c,d)\n",
    "print(num)"
   ]
  },
  {
   "cell_type": "code",
   "execution_count": 5,
   "metadata": {},
   "outputs": [
    {
     "name": "stdout",
     "output_type": "stream",
     "text": [
      "이름: 서미현\n",
      "나이: 20\n",
      "이름:서미현, 나이:20\n"
     ]
    }
   ],
   "source": [
    "# 이름과 나이를 출력하는 함수\n",
    "def print_name_age(name: str, age: int):\n",
    "    print(f\"이름:{name}, 나이:{age}\")\n",
    "    \n",
    "name = input(\"이름: \")\n",
    "age = input(\"나이: \")\n",
    "print_name_age(name, age)"
   ]
  },
  {
   "cell_type": "markdown",
   "metadata": {},
   "source": [
    "### 4.Default Parameter\n",
    "- 함수 호출 시 parameter를 전달 받지 못한 경우 기본 값을 사용\n",
    "\n",
    "```python\n",
    "# 올바른 사용 예\n",
    "def test(a, b, c=3):\n",
    "def test(a, b=2, c=3):\n",
    "def test(a=1, b=2, c=3):\n",
    "    \n",
    "# 올바르지 않은 예\n",
    "def test(a, b=2, c):\n",
    "def test(a=1, b, c=3):\n",
    "def test(a=1, b=2, c):\n",
    "```"
   ]
  },
  {
   "cell_type": "markdown",
   "metadata": {},
   "source": [
    "### 5.변수의 범위\n",
    "- 변수가 참조 가능한 코드상의 범위를 명시\n",
    "- 함수내의 변수는 자신이 속한 코드 블록이 종료되면 소멸됨\n",
    "- 특정 코드 블록에서 선언된 변수를 지역변수라고 함\n",
    "- 반대로 가장 상단에서 정의되어 프로그램 종료전까지 유지되는 변수를 전역변수라고 함\n",
    "- 같은 이름의 지역변수, 전역변수가 존재하는 경우 가까운 변수가 먼저 실행"
   ]
  },
  {
   "cell_type": "code",
   "execution_count": 4,
   "metadata": {},
   "outputs": [
    {
     "name": "stdout",
     "output_type": "stream",
     "text": [
      "50 60\n",
      "10 20\n"
     ]
    }
   ],
   "source": [
    "num1 = 10\n",
    "num2 = 20\n",
    "\n",
    "def test():\n",
    "    num1 = 50\n",
    "    num2 = 60\n",
    "    print(num1, num2)\n",
    "\n",
    "test()\n",
    "print(num1, num2)"
   ]
  },
  {
   "cell_type": "markdown",
   "metadata": {},
   "source": [
    "### 6.variable length parameter(가변길이 인자)\n",
    "\n",
    "- 전달되는 parameter의 개수가 고정적이지 않은 경우 사용\n",
    "- 예:print(), format()\n",
    "\n",
    "1. *args: tupe type\n",
    "2. **kwargs: dict type"
   ]
  },
  {
   "cell_type": "code",
   "execution_count": 6,
   "metadata": {},
   "outputs": [
    {
     "name": "stdout",
     "output_type": "stream",
     "text": [
      "10\n",
      "20\n",
      "30\n",
      "40\n"
     ]
    }
   ],
   "source": [
    "def test(*args):\n",
    "    for item in args:\n",
    "        print(item)\n",
    "\n",
    "test(10, 20, 30, 40)"
   ]
  }
 ],
 "metadata": {
  "kernelspec": {
   "display_name": "Python 3",
   "language": "python",
   "name": "python3"
  },
  "language_info": {
   "codemirror_mode": {
    "name": "ipython",
    "version": 3
   },
   "file_extension": ".py",
   "mimetype": "text/x-python",
   "name": "python",
   "nbconvert_exporter": "python",
   "pygments_lexer": "ipython3",
   "version": "3.7.6"
  }
 },
 "nbformat": 4,
 "nbformat_minor": 4
}
